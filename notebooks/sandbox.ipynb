{
 "cells": [
  {
   "cell_type": "code",
   "execution_count": 3,
   "id": "6181a14d-1be8-4be9-8722-6c956c053148",
   "metadata": {},
   "outputs": [],
   "source": [
    "import sys\n",
    "import os\n",
    "\n",
    "\n",
    "chemin_dossier = os.path.abspath('../scripts')\n",
    "if chemin_dossier not in sys.path:\n",
    "    sys.path.append(chemin_dossier)\n",
    "\n"
   ]
  },
  {
   "cell_type": "code",
   "execution_count": 5,
   "id": "e1aa1f26-38ec-4d89-9abd-3f2efd9c7785",
   "metadata": {},
   "outputs": [],
   "source": [
    "from scryfall_api import *\n",
    "from manage_data import *\n",
    "import time"
   ]
  },
  {
   "cell_type": "code",
   "execution_count": 10,
   "id": "5928bb9f-af91-4b2c-98f1-675ec0da81e6",
   "metadata": {},
   "outputs": [],
   "source": [
    "def get_random_card():\n",
    "    random_card = []\n",
    "    url_test = url_pytest\n",
    "    response = r.get(url_test)\n",
    "    data_random = response.json()\n",
    "    print(data_random)"
   ]
  },
  {
   "cell_type": "code",
   "execution_count": 11,
   "id": "51ca3218-cba4-45eb-9666-974c1c47650b",
   "metadata": {},
   "outputs": [
    {
     "name": "stdout",
     "output_type": "stream",
     "text": [
      "{'object': 'card', 'id': 'efae4d84-8134-461a-a352-a5bdff7259a7', 'oracle_id': 'fe742976-ef13-4c25-972f-254b1ed436de', 'multiverse_ids': [464120], 'mtgo_id': 72714, 'tcgplayer_id': 190966, 'cardmarket_id': 374685, 'name': 'Mother Bear', 'lang': 'en', 'released_at': '2019-06-14', 'uri': 'https://api.scryfall.com/cards/efae4d84-8134-461a-a352-a5bdff7259a7', 'scryfall_uri': 'https://scryfall.com/card/mh1/171/mother-bear?utm_source=api', 'layout': 'normal', 'highres_image': True, 'image_status': 'highres_scan', 'image_uris': {'small': 'https://cards.scryfall.io/small/front/e/f/efae4d84-8134-461a-a352-a5bdff7259a7.jpg?1562202126', 'normal': 'https://cards.scryfall.io/normal/front/e/f/efae4d84-8134-461a-a352-a5bdff7259a7.jpg?1562202126', 'large': 'https://cards.scryfall.io/large/front/e/f/efae4d84-8134-461a-a352-a5bdff7259a7.jpg?1562202126', 'png': 'https://cards.scryfall.io/png/front/e/f/efae4d84-8134-461a-a352-a5bdff7259a7.png?1562202126', 'art_crop': 'https://cards.scryfall.io/art_crop/front/e/f/efae4d84-8134-461a-a352-a5bdff7259a7.jpg?1562202126', 'border_crop': 'https://cards.scryfall.io/border_crop/front/e/f/efae4d84-8134-461a-a352-a5bdff7259a7.jpg?1562202126'}, 'mana_cost': '{1}{G}', 'cmc': 2.0, 'type_line': 'Creature — Bear', 'oracle_text': '{3}{G}{G}, Exile this card from your graveyard: Create two 2/2 green Bear creature tokens. Activate only as a sorcery.', 'power': '2', 'toughness': '2', 'colors': ['G'], 'color_identity': ['G'], 'keywords': [], 'all_parts': [{'object': 'related_card', 'id': 'c6610846-00d8-4cc2-a90a-4dc043ba7fa6', 'component': 'token', 'name': 'Bear', 'type_line': 'Token Creature — Bear', 'uri': 'https://api.scryfall.com/cards/c6610846-00d8-4cc2-a90a-4dc043ba7fa6'}, {'object': 'related_card', 'id': 'efae4d84-8134-461a-a352-a5bdff7259a7', 'component': 'combo_piece', 'name': 'Mother Bear', 'type_line': 'Creature — Bear', 'uri': 'https://api.scryfall.com/cards/efae4d84-8134-461a-a352-a5bdff7259a7'}], 'legalities': {'standard': 'not_legal', 'future': 'not_legal', 'historic': 'legal', 'timeless': 'legal', 'gladiator': 'legal', 'pioneer': 'not_legal', 'modern': 'legal', 'legacy': 'legal', 'pauper': 'legal', 'vintage': 'legal', 'penny': 'legal', 'commander': 'legal', 'oathbreaker': 'legal', 'standardbrawl': 'not_legal', 'brawl': 'legal', 'alchemy': 'not_legal', 'paupercommander': 'legal', 'duel': 'legal', 'oldschool': 'not_legal', 'premodern': 'not_legal', 'predh': 'not_legal'}, 'games': ['paper', 'mtgo'], 'reserved': False, 'game_changer': False, 'foil': True, 'nonfoil': True, 'finishes': ['nonfoil', 'foil'], 'oversized': False, 'promo': False, 'reprint': False, 'variation': False, 'set_id': 'd7efccd6-55bc-4fb8-9138-e72577510a99', 'set': 'mh1', 'set_name': 'Modern Horizons', 'set_type': 'draft_innovation', 'set_uri': 'https://api.scryfall.com/sets/d7efccd6-55bc-4fb8-9138-e72577510a99', 'set_search_uri': 'https://api.scryfall.com/cards/search?order=set&q=e%3Amh1&unique=prints', 'scryfall_set_uri': 'https://scryfall.com/sets/mh1?utm_source=api', 'rulings_uri': 'https://api.scryfall.com/cards/efae4d84-8134-461a-a352-a5bdff7259a7/rulings', 'prints_search_uri': 'https://api.scryfall.com/cards/search?order=released&q=oracleid%3Afe742976-ef13-4c25-972f-254b1ed436de&unique=prints', 'collector_number': '171', 'digital': False, 'rarity': 'common', 'flavor_text': \"Even without her, the cubs will always know their mother's love.\", 'card_back_id': '0aeebaf5-8c7d-4636-9e82-8c27447861f7', 'artist': 'Winona Nelson', 'artist_ids': ['e45fe8d3-75d6-42c9-a2df-e945ad81ea27'], 'illustration_id': '7d6e080a-9367-4071-af11-e83656641ad0', 'border_color': 'black', 'frame': '2015', 'full_art': False, 'textless': False, 'booster': True, 'story_spotlight': False, 'edhrec_rank': 8695, 'penny_rank': 7013, 'preview': {'source': 'MTG Tower', 'source_uri': 'https://twitter.com/mtg_tower/status/1131592271026040832', 'previewed_at': '2019-05-23'}, 'prices': {'usd': '0.18', 'usd_foil': '1.28', 'usd_etched': None, 'eur': '0.10', 'eur_foil': '0.55', 'tix': '0.03'}, 'related_uris': {'gatherer': 'https://gatherer.wizards.com/Pages/Card/Details.aspx?multiverseid=464120&printed=false', 'tcgplayer_infinite_articles': 'https://partner.tcgplayer.com/c/4931599/1830156/21018?subId1=api&trafcat=tcgplayer.com%2Fsearch%2Farticles&u=https%3A%2F%2Fwww.tcgplayer.com%2Fsearch%2Farticles%3FproductLineName%3Dmagic%26q%3DMother%2BBear', 'tcgplayer_infinite_decks': 'https://partner.tcgplayer.com/c/4931599/1830156/21018?subId1=api&trafcat=tcgplayer.com%2Fsearch%2Fdecks&u=https%3A%2F%2Fwww.tcgplayer.com%2Fsearch%2Fdecks%3FproductLineName%3Dmagic%26q%3DMother%2BBear', 'edhrec': 'https://edhrec.com/route/?cc=Mother+Bear'}, 'purchase_uris': {'tcgplayer': 'https://partner.tcgplayer.com/c/4931599/1830156/21018?subId1=api&u=https%3A%2F%2Fwww.tcgplayer.com%2Fproduct%2F190966%3Fpage%3D1', 'cardmarket': 'https://www.cardmarket.com/en/Magic/Products?idProduct=374685&referrer=scryfall&utm_campaign=card_prices&utm_medium=text&utm_source=scryfall', 'cardhoarder': 'https://www.cardhoarder.com/cards/72714?affiliate_id=scryfall&ref=card-profile&utm_campaign=affiliate&utm_medium=card&utm_source=scryfall'}}\n"
     ]
    }
   ],
   "source": [
    "get_random_card()"
   ]
  },
  {
   "cell_type": "code",
   "execution_count": 3,
   "id": "e0f2e386-8351-41e8-9851-fc252806d5d3",
   "metadata": {},
   "outputs": [],
   "source": [
    "def get_all_cards_today():\n",
    "    all_cards = []\n",
    "    url = url_en\n",
    "    MAX_RETRIES = 10\n",
    "\n",
    "    while url:\n",
    "        for attempt in range(MAX_RETRIES):\n",
    "            try:\n",
    "                response = r.get(url, timeout=10)\n",
    "                response.raise_for_status()\n",
    "                data = response.json()\n",
    "\n",
    "                # Extraire les objets 'card'\n",
    "                all_cards.extend(data['data'])\n",
    "\n",
    "                print(f\"{len(all_cards)} cartes chargées...\")\n",
    "                url = data.get(\"next_page\")\n",
    "                time.sleep(0.2)  # Pause légère entre les requêtes\n",
    "\n",
    "                break  # Sort du retry loop si succès\n",
    "\n",
    "            except r.exceptions.RequestException as e:\n",
    "                wait_time = (2 ** attempt)\n",
    "                print(f\"Erreur : {e}. Nouvelle tentative dans {wait_time} sec...\")\n",
    "                time.sleep(wait_time)\n",
    "        else:\n",
    "            print(\"Échec après plusieurs tentatives. Arrêt.\")\n",
    "            break\n",
    "\n",
    "    # Transformer en DataFrame\n",
    "    df = pd.json_normalize(all_cards)\n",
    "    print(f\"{len(df)} cartes importées.\")\n",
    "    return df\n"
   ]
  },
  {
   "cell_type": "code",
   "execution_count": 4,
   "id": "9a323cbb-2770-4c55-8660-17aa87602852",
   "metadata": {},
   "outputs": [
    {
     "name": "stdout",
     "output_type": "stream",
     "text": [
      "175 cartes chargées...\n",
      "350 cartes chargées...\n",
      "525 cartes chargées...\n",
      "700 cartes chargées...\n",
      "875 cartes chargées...\n",
      "1050 cartes chargées...\n",
      "1225 cartes chargées...\n",
      "1400 cartes chargées...\n",
      "1575 cartes chargées...\n",
      "1750 cartes chargées...\n",
      "1925 cartes chargées...\n",
      "2100 cartes chargées...\n",
      "2275 cartes chargées...\n",
      "2450 cartes chargées...\n",
      "2625 cartes chargées...\n",
      "2800 cartes chargées...\n",
      "2975 cartes chargées...\n",
      "3150 cartes chargées...\n",
      "3325 cartes chargées...\n",
      "3500 cartes chargées...\n",
      "3675 cartes chargées...\n",
      "3850 cartes chargées...\n",
      "4025 cartes chargées...\n",
      "4200 cartes chargées...\n",
      "4375 cartes chargées...\n",
      "4550 cartes chargées...\n",
      "4725 cartes chargées...\n",
      "4900 cartes chargées...\n",
      "5075 cartes chargées...\n",
      "5250 cartes chargées...\n",
      "5425 cartes chargées...\n",
      "5600 cartes chargées...\n",
      "5775 cartes chargées...\n",
      "5950 cartes chargées...\n",
      "6125 cartes chargées...\n",
      "6300 cartes chargées...\n",
      "6475 cartes chargées...\n",
      "6650 cartes chargées...\n",
      "6825 cartes chargées...\n",
      "7000 cartes chargées...\n",
      "7175 cartes chargées...\n",
      "7350 cartes chargées...\n",
      "7525 cartes chargées...\n",
      "7700 cartes chargées...\n",
      "7875 cartes chargées...\n",
      "8050 cartes chargées...\n",
      "8225 cartes chargées...\n",
      "8400 cartes chargées...\n",
      "8575 cartes chargées...\n",
      "8750 cartes chargées...\n",
      "8925 cartes chargées...\n",
      "9100 cartes chargées...\n",
      "9275 cartes chargées...\n",
      "9450 cartes chargées...\n",
      "9625 cartes chargées...\n",
      "9800 cartes chargées...\n",
      "9975 cartes chargées...\n",
      "10150 cartes chargées...\n",
      "10325 cartes chargées...\n",
      "10500 cartes chargées...\n",
      "10675 cartes chargées...\n",
      "10850 cartes chargées...\n",
      "11025 cartes chargées...\n",
      "11200 cartes chargées...\n",
      "11375 cartes chargées...\n",
      "11550 cartes chargées...\n",
      "11725 cartes chargées...\n",
      "11900 cartes chargées...\n",
      "12075 cartes chargées...\n",
      "12250 cartes chargées...\n",
      "12425 cartes chargées...\n",
      "12600 cartes chargées...\n",
      "12775 cartes chargées...\n",
      "12950 cartes chargées...\n",
      "13125 cartes chargées...\n",
      "13300 cartes chargées...\n",
      "13475 cartes chargées...\n",
      "13650 cartes chargées...\n",
      "13825 cartes chargées...\n",
      "14000 cartes chargées...\n",
      "14175 cartes chargées...\n",
      "14350 cartes chargées...\n",
      "14525 cartes chargées...\n",
      "14700 cartes chargées...\n",
      "14875 cartes chargées...\n",
      "15050 cartes chargées...\n",
      "15225 cartes chargées...\n",
      "15400 cartes chargées...\n",
      "15575 cartes chargées...\n",
      "15750 cartes chargées...\n",
      "15925 cartes chargées...\n",
      "16100 cartes chargées...\n",
      "16275 cartes chargées...\n",
      "16450 cartes chargées...\n",
      "16625 cartes chargées...\n",
      "16800 cartes chargées...\n",
      "16975 cartes chargées...\n",
      "17150 cartes chargées...\n",
      "17325 cartes chargées...\n",
      "17500 cartes chargées...\n",
      "17675 cartes chargées...\n",
      "17850 cartes chargées...\n",
      "18025 cartes chargées...\n",
      "18200 cartes chargées...\n",
      "18375 cartes chargées...\n",
      "18550 cartes chargées...\n",
      "18725 cartes chargées...\n",
      "18900 cartes chargées...\n",
      "19075 cartes chargées...\n",
      "19250 cartes chargées...\n",
      "19425 cartes chargées...\n",
      "19600 cartes chargées...\n",
      "19775 cartes chargées...\n",
      "19950 cartes chargées...\n",
      "20125 cartes chargées...\n",
      "20300 cartes chargées...\n",
      "20475 cartes chargées...\n",
      "20650 cartes chargées...\n",
      "20825 cartes chargées...\n",
      "21000 cartes chargées...\n",
      "21175 cartes chargées...\n",
      "21350 cartes chargées...\n",
      "21525 cartes chargées...\n",
      "21700 cartes chargées...\n",
      "21875 cartes chargées...\n",
      "22050 cartes chargées...\n",
      "22225 cartes chargées...\n",
      "22400 cartes chargées...\n",
      "22575 cartes chargées...\n",
      "22750 cartes chargées...\n",
      "22925 cartes chargées...\n",
      "23100 cartes chargées...\n",
      "23275 cartes chargées...\n",
      "23450 cartes chargées...\n",
      "23625 cartes chargées...\n",
      "23800 cartes chargées...\n",
      "23975 cartes chargées...\n",
      "24150 cartes chargées...\n",
      "24325 cartes chargées...\n",
      "24500 cartes chargées...\n",
      "24675 cartes chargées...\n",
      "24850 cartes chargées...\n",
      "25025 cartes chargées...\n",
      "25200 cartes chargées...\n",
      "25375 cartes chargées...\n",
      "25550 cartes chargées...\n",
      "25725 cartes chargées...\n",
      "25900 cartes chargées...\n",
      "26075 cartes chargées...\n",
      "26250 cartes chargées...\n",
      "26425 cartes chargées...\n",
      "26600 cartes chargées...\n",
      "26775 cartes chargées...\n",
      "26950 cartes chargées...\n",
      "27125 cartes chargées...\n",
      "27300 cartes chargées...\n",
      "27475 cartes chargées...\n",
      "27650 cartes chargées...\n",
      "27825 cartes chargées...\n",
      "28000 cartes chargées...\n",
      "28175 cartes chargées...\n",
      "28350 cartes chargées...\n",
      "28525 cartes chargées...\n",
      "28700 cartes chargées...\n",
      "28875 cartes chargées...\n",
      "29050 cartes chargées...\n",
      "29225 cartes chargées...\n",
      "29400 cartes chargées...\n",
      "29575 cartes chargées...\n",
      "29750 cartes chargées...\n",
      "29925 cartes chargées...\n",
      "30100 cartes chargées...\n",
      "30275 cartes chargées...\n",
      "30450 cartes chargées...\n",
      "30625 cartes chargées...\n",
      "30800 cartes chargées...\n",
      "30975 cartes chargées...\n",
      "31150 cartes chargées...\n",
      "31159 cartes chargées...\n",
      "31159 cartes importées.\n"
     ]
    }
   ],
   "source": [
    "df = get_all_cards_today()"
   ]
  },
  {
   "cell_type": "code",
   "execution_count": 5,
   "id": "c50648cb-f0b6-410d-b4c0-068a55b1ac85",
   "metadata": {},
   "outputs": [],
   "source": [
    "dft = df.drop_duplicates(subset=[\"name\"])\n"
   ]
  },
  {
   "cell_type": "code",
   "execution_count": 6,
   "id": "f65b30cc-876c-4ab2-8e0a-650f816c3ba0",
   "metadata": {},
   "outputs": [
    {
     "name": "stdout",
     "output_type": "stream",
     "text": [
      "['object', 'id', 'oracle_id', 'multiverse_ids', 'tcgplayer_id', 'cardmarket_id', 'name', 'lang', 'released_at', 'uri', 'scryfall_uri', 'layout', 'highres_image', 'image_status', 'mana_cost', 'cmc', 'type_line', 'oracle_text', 'power', 'toughness', 'colors', 'color_identity', 'keywords', 'games', 'reserved', 'game_changer', 'foil', 'nonfoil', 'finishes', 'oversized', 'promo', 'reprint', 'variation', 'set_id', 'set', 'set_name', 'set_type', 'set_uri', 'set_search_uri', 'scryfall_set_uri', 'rulings_uri', 'prints_search_uri', 'collector_number', 'digital', 'rarity', 'flavor_text', 'card_back_id', 'artist', 'artist_ids', 'illustration_id', 'border_color', 'frame', 'full_art', 'textless', 'booster', 'story_spotlight', 'image_uris.small', 'image_uris.normal', 'image_uris.large', 'image_uris.png', 'image_uris.art_crop', 'image_uris.border_crop', 'legalities.standard', 'legalities.future', 'legalities.historic', 'legalities.timeless', 'legalities.gladiator', 'legalities.pioneer', 'legalities.modern', 'legalities.legacy', 'legalities.pauper', 'legalities.vintage', 'legalities.penny', 'legalities.commander', 'legalities.oathbreaker', 'legalities.standardbrawl', 'legalities.brawl', 'legalities.alchemy', 'legalities.paupercommander', 'legalities.duel', 'legalities.oldschool', 'legalities.premodern', 'legalities.predh', 'prices.usd', 'prices.usd_foil', 'prices.usd_etched', 'prices.eur', 'prices.eur_foil', 'prices.tix', 'related_uris.gatherer', 'related_uris.tcgplayer_infinite_articles', 'related_uris.tcgplayer_infinite_decks', 'related_uris.edhrec', 'purchase_uris.tcgplayer', 'purchase_uris.cardmarket', 'purchase_uris.cardhoarder', 'mtgo_id', 'arena_id', 'edhrec_rank', 'preview.source', 'preview.source_uri', 'preview.previewed_at', 'all_parts', 'frame_effects', 'security_stamp', 'promo_types', 'card_faces', 'watermark', 'penny_rank', 'produced_mana', 'mtgo_foil_id', 'loyalty', 'color_indicator', 'tcgplayer_etched_id', 'attraction_lights', 'flavor_name']\n"
     ]
    }
   ],
   "source": [
    "print(dft.columns.tolist())"
   ]
  },
  {
   "cell_type": "code",
   "execution_count": 7,
   "id": "f637737d-fdfa-4b5d-898a-a8b16541397f",
   "metadata": {},
   "outputs": [],
   "source": [
    "data_info = dft[[\n",
    "        \"id\", \"name\", \"lang\",\"oracle_text\", \"set_name\", \"rarity\",\n",
    "        \"released_at\",\"image_uris.normal\"\n",
    "    ]].values.tolist()"
   ]
  },
  {
   "cell_type": "code",
   "execution_count": 10,
   "id": "431e72ad-77b8-44b1-bb89-c9cc5aebdba1",
   "metadata": {},
   "outputs": [
    {
     "name": "stdout",
     "output_type": "stream",
     "text": [
      "['5aa90ab6-2686-4462-8725-5d4370c05437', '_____', 'en', \"{1}: This card's name becomes the card name of your choice. Activate anywhere, anytime.\", 'Unhinged', 'uncommon', '2004-11-19', 'https://cards.scryfall.io/normal/front/5/a/5aa90ab6-2686-4462-8725-5d4370c05437.jpg?1663738897']\n"
     ]
    }
   ],
   "source": [
    "print(data_info[0])"
   ]
  },
  {
   "cell_type": "code",
   "execution_count": 17,
   "id": "354a0001-b902-4534-84cd-89cb31f9f12f",
   "metadata": {},
   "outputs": [],
   "source": [
    "conn.rollback()"
   ]
  },
  {
   "cell_type": "code",
   "execution_count": 8,
   "id": "0ac8611d-76fc-4256-a9ec-e9c8393c9223",
   "metadata": {},
   "outputs": [],
   "source": [
    "import psycopg2\n",
    "\n",
    "def connect_database2():\n",
    "    conn = psycopg2.connect(\n",
    "        dbname=\"analyse_cartes\",\n",
    "        user=\"airflow\",\n",
    "        password=\"airflow\",\n",
    "        host=\"localhost\",\n",
    "        port=\"5433\"\n",
    "    )\n",
    "\n",
    "    cur = conn.cursor()\n",
    "    return conn, cur"
   ]
  },
  {
   "cell_type": "code",
   "execution_count": 9,
   "id": "8861f442-8fb4-46bc-bf92-8f61047f047b",
   "metadata": {},
   "outputs": [],
   "source": [
    "conn, cur = connect_database2()"
   ]
  },
  {
   "cell_type": "code",
   "execution_count": 10,
   "id": "9e0ea676-676c-45b2-a58c-bb802a7a6ed2",
   "metadata": {},
   "outputs": [],
   "source": [
    "query_banlist = \"\"\"\n",
    "        INSERT INTO banlist\n",
    "        VALUES (%s, %s, %s, %s, %s, %s)\n",
    "    \"\"\""
   ]
  },
  {
   "cell_type": "code",
   "execution_count": 11,
   "id": "a751eb14-83b5-4331-a757-3ffe70bf7ce7",
   "metadata": {},
   "outputs": [],
   "source": [
    "data_banlist = dft[[\n",
    "        \"name\", \"legalities.commander\", \"legalities.pauper\", \"legalities.standard\", \"legalities.modern\", \"legalities.vintage\"\n",
    "    ]].values.tolist()"
   ]
  },
  {
   "cell_type": "code",
   "execution_count": 12,
   "id": "6ebdaa26-d20a-4291-bc9c-6041fb236553",
   "metadata": {},
   "outputs": [
    {
     "name": "stdout",
     "output_type": "stream",
     "text": [
      "[\"Aang's Iceberg\", 'not_legal', 'not_legal', 'not_legal', 'not_legal', 'not_legal']\n"
     ]
    }
   ],
   "source": [
    "print(data_banlist[10])"
   ]
  },
  {
   "cell_type": "code",
   "execution_count": 18,
   "id": "257d207a-78a3-4b54-b5a2-96af4370ab37",
   "metadata": {},
   "outputs": [],
   "source": [
    "cur.executemany(query_banlist, data_banlist)"
   ]
  },
  {
   "cell_type": "code",
   "execution_count": 19,
   "id": "b79d34c6-49a9-4398-9247-d70208ac834b",
   "metadata": {},
   "outputs": [],
   "source": [
    "conn.commit()"
   ]
  },
  {
   "cell_type": "code",
   "execution_count": 20,
   "id": "b2d4b830-49dd-4de2-a06c-5f2d913dcd93",
   "metadata": {},
   "outputs": [],
   "source": [
    "conn.close()"
   ]
  },
  {
   "cell_type": "code",
   "execution_count": null,
   "id": "7e1a246e-45de-4fcd-86cd-1f9414f55738",
   "metadata": {},
   "outputs": [],
   "source": [
    "url2 = \"https://api.scryfall.com/cards/search?q=lang:en\""
   ]
  },
  {
   "cell_type": "code",
   "execution_count": null,
   "id": "3501544d-44f4-47f3-9236-d02a26a357b4",
   "metadata": {},
   "outputs": [],
   "source": [
    "liste_colonne=['id','oracle_id','name',\"lang\",\"set_name\",\"rarity\",\"released_at\",\"prices.eur\",\"prices.eur_foil\"]\n",
    "df_carte = df[liste_colonne]"
   ]
  },
  {
   "cell_type": "code",
   "execution_count": null,
   "id": "cf9b08d1-ff2e-42bf-b07d-09a13ca7359a",
   "metadata": {},
   "outputs": [],
   "source": [
    "df_carte.tail()"
   ]
  },
  {
   "cell_type": "code",
   "execution_count": null,
   "id": "7e7878b6-957c-4627-b800-5d9a5e448c2c",
   "metadata": {},
   "outputs": [],
   "source": []
  },
  {
   "cell_type": "code",
   "execution_count": null,
   "id": "20b51337-7d39-478a-95f4-a803d1db3c3f",
   "metadata": {},
   "outputs": [],
   "source": [
    "import requests as r\n",
    "import pandas as pd\n",
    "import time\n",
    "\n",
    "all_cards = []\n",
    "\n",
    "MAX_RETRIES = 10\n",
    "\n",
    "while url:\n",
    "    for attempt in range(MAX_RETRIES):\n",
    "        try:\n",
    "            response = r.get(url, timeout=10)\n",
    "            response.raise_for_status()\n",
    "            data = response.json()\n",
    "\n",
    "            # Extraire les objets 'card'\n",
    "            all_cards.extend(data['data'])\n",
    "\n",
    "            print(f\"{len(all_cards)} cartes chargées...\")\n",
    "            url = data.get(\"next_page\")\n",
    "            time.sleep(0.2)  # Pause légère entre les requêtes\n",
    "\n",
    "            break  # Sort du retry loop si succès\n",
    "\n",
    "        except r.exceptions.RequestException as e:\n",
    "            wait_time = (2 ** attempt)\n",
    "            print(f\"Erreur : {e}. Nouvelle tentative dans {wait_time} sec...\")\n",
    "            time.sleep(wait_time)\n",
    "    else:\n",
    "        print(\"Échec après plusieurs tentatives. Arrêt.\")\n",
    "        break\n",
    "\n",
    "# Transformer en DataFrame\n",
    "df = pd.json_normalize(all_cards)\n",
    "print(f\"{len(df)} cartes importées.\")\n"
   ]
  },
  {
   "cell_type": "code",
   "execution_count": null,
   "id": "b7baf196-f75a-4205-8a58-124bd5dc31df",
   "metadata": {},
   "outputs": [],
   "source": [
    "df.shape"
   ]
  },
  {
   "cell_type": "code",
   "execution_count": null,
   "id": "2631654c-5b6f-4862-80cd-971965e52d06",
   "metadata": {},
   "outputs": [],
   "source": [
    "import psycopg2\n",
    "\n",
    "conn = psycopg2.connect(\n",
    "    dbname=\"prix_cartes\",\n",
    "    user=\"postgres\",\n",
    "    password=\"aE6C1U>4\",\n",
    "    host=\"localhost\",\n",
    "    port=\"5432\"\n",
    ")\n",
    "\n",
    "cur = conn.cursor()"
   ]
  },
  {
   "cell_type": "code",
   "execution_count": null,
   "id": "074ff818-1887-4770-86b8-5e5efc283b27",
   "metadata": {},
   "outputs": [],
   "source": [
    "query_info = \"\"\"\n",
    "    INSERT INTO cartes (\n",
    "        id, oracle_id, name, lang, set_name, rarity,\n",
    "        released_at\n",
    "    )\n",
    "    VALUES (%s, %s, %s, %s, %s, %s, %s)\n",
    "\"\"\""
   ]
  },
  {
   "cell_type": "code",
   "execution_count": null,
   "id": "991c64c0-7590-46d0-a286-0a9e7dd655ba",
   "metadata": {},
   "outputs": [],
   "source": [
    "data_info = df[[\n",
    "    \"id\", \"oracle_id\", \"name\", \"lang\", \"set_name\", \"rarity\",\n",
    "    \"released_at\"\n",
    "]].values.tolist()\n",
    "\n"
   ]
  },
  {
   "cell_type": "code",
   "execution_count": null,
   "id": "a5fb4444-9726-4ed6-9191-5988e33461b8",
   "metadata": {},
   "outputs": [],
   "source": [
    "data_info[0]"
   ]
  },
  {
   "cell_type": "code",
   "execution_count": null,
   "id": "477888b9-9a44-448d-a5a1-125e2dbf1bb0",
   "metadata": {},
   "outputs": [],
   "source": [
    "cur.executemany(query_info, data_info)\n",
    "\n",
    "conn.commit()"
   ]
  },
  {
   "cell_type": "code",
   "execution_count": null,
   "id": "8648fb9e-55d0-4e8c-a20c-f6e6ba49ee6d",
   "metadata": {},
   "outputs": [],
   "source": [
    "liste_colonne=['id','oracle_id','name',\"lang\",\"set_name\",\"rarity\",\"released_at\",\"prices.eur\",\"prices.eur_foil\"]\n",
    "df_carte = df[liste_colonne]"
   ]
  },
  {
   "cell_type": "code",
   "execution_count": null,
   "id": "766c16da-5ead-450e-8076-a2598413a3d9",
   "metadata": {},
   "outputs": [],
   "source": [
    "df_carte.head"
   ]
  }
 ],
 "metadata": {
  "kernelspec": {
   "display_name": "Python 3 (ipykernel)",
   "language": "python",
   "name": "python3"
  },
  "language_info": {
   "codemirror_mode": {
    "name": "ipython",
    "version": 3
   },
   "file_extension": ".py",
   "mimetype": "text/x-python",
   "name": "python",
   "nbconvert_exporter": "python",
   "pygments_lexer": "ipython3",
   "version": "3.11.7"
  }
 },
 "nbformat": 4,
 "nbformat_minor": 5
}
