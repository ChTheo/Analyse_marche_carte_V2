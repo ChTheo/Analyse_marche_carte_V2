{
 "cells": [
  {
   "cell_type": "code",
   "execution_count": 5,
   "id": "2fee2cf2-924f-436d-a463-2b69abff9987",
   "metadata": {},
   "outputs": [],
   "source": [
    "import sys\n",
    "import os\n",
    "\n",
    "\n",
    "chemin_dossier = os.path.abspath('../Project_scripts')\n",
    "if chemin_dossier not in sys.path:\n",
    "    sys.path.append(chemin_dossier)\n",
    "\n"
   ]
  },
  {
   "cell_type": "code",
   "execution_count": 6,
   "id": "8f6b6ea7-f4d0-4978-a7e1-ea3faea9e7f2",
   "metadata": {},
   "outputs": [],
   "source": [
    "from scryfall_api import *\n",
    "from manage_data import *\n",
    "import time"
   ]
  },
  {
   "cell_type": "code",
   "execution_count": 7,
   "id": "bea1f5a1-450c-4773-9dbb-c7f5e5cae86d",
   "metadata": {},
   "outputs": [],
   "source": [
    "from selenium import webdriver\n",
    "from selenium.webdriver.chrome.service import Service\n",
    "from webdriver_manager.chrome import ChromeDriverManager\n",
    "from bs4 import BeautifulSoup\n",
    "import time\n",
    "\n",
    "def scrape_edhrec():\n",
    "    url = \"https://edhrec.com/top/month\"\n",
    "    options = webdriver.ChromeOptions()\n",
    "    options.add_argument('--headless')\n",
    "    options.add_argument('--disable-gpu')\n",
    "    driver = webdriver.Chrome(service=Service(ChromeDriverManager().install()), options=options)\n",
    "\n",
    "    driver.get(url)\n",
    "    time.sleep(5)\n",
    "\n",
    "    html = driver.page_source\n",
    "    soup = BeautifulSoup(html, 'html.parser')\n",
    "\n",
    "    top_cards = {}\n",
    "    for i, card_div in enumerate(soup.select('.Card_name__Mpa7S'), 1):\n",
    "        card_name = card_div.get_text(strip=True)\n",
    "        top_cards[card_name] = i\n",
    "\n",
    "    driver.quit()\n",
    "    return top_cards  # dict: {name: rank}\n",
    "\n",
    "def scrape_mtggoldfish():\n",
    "    urls = {\n",
    "        \"pauper\": \"https://www.mtggoldfish.com/format-staples/pauper/full/all\",\n",
    "        \"standard\": \"https://www.mtggoldfish.com/format-staples/standard/full/all\",\n",
    "        \"modern\": \"https://www.mtggoldfish.com/format-staples/modern/full/all\",\n",
    "        \"vintage\": \"https://www.mtggoldfish.com/format-staples/vintage/full/all\"\n",
    "    }\n",
    "\n",
    "    options = webdriver.ChromeOptions()\n",
    "    options.add_argument('--headless')\n",
    "    options.add_argument('--disable-gpu')\n",
    "    driver = webdriver.Chrome(service=Service(ChromeDriverManager().install()), options=options)\n",
    "\n",
    "    card_rankings = {}\n",
    "\n",
    "    for format_name, url in urls.items():\n",
    "        driver.get(url)\n",
    "        time.sleep(5)\n",
    "\n",
    "        html = driver.page_source\n",
    "        soup = BeautifulSoup(html, 'html.parser')\n",
    "\n",
    "        for i, card_div in enumerate(soup.select('.card_name'), 1):\n",
    "            card_name = card_div.get_text(strip=True)\n",
    "            if card_name not in card_rankings:\n",
    "                card_rankings[card_name] = {}\n",
    "            card_rankings[card_name][format_name] = i\n",
    "\n",
    "    driver.quit()\n",
    "    return card_rankings  # dict[card_name] = {format: rank}\n",
    "\n",
    "def get_all_popular_cards():\n",
    "    edhrec_data = scrape_edhrec()\n",
    "    goldfish_data = scrape_mtggoldfish()\n",
    "\n",
    "    all_card_names = set(edhrec_data.keys()) | set(goldfish_data.keys())\n",
    "\n",
    "    result = []\n",
    "    for name in sorted(all_card_names):\n",
    "        entry = [\n",
    "            name,\n",
    "            edhrec_data.get(name),\n",
    "            goldfish_data.get(name, {}).get(\"pauper\"),\n",
    "            goldfish_data.get(name, {}).get(\"standard\"),\n",
    "            goldfish_data.get(name, {}).get(\"modern\"),\n",
    "            goldfish_data.get(name, {}).get(\"vintage\"),\n",
    "        ]\n",
    "        result.append(entry)\n",
    "\n",
    "    return result\n",
    "\n"
   ]
  },
  {
   "cell_type": "code",
   "execution_count": 8,
   "id": "19ce380e-2a3f-47b8-aa8f-f6bafca1c493",
   "metadata": {},
   "outputs": [],
   "source": [
    "popularity_list = get_all_popular_cards()"
   ]
  },
  {
   "cell_type": "code",
   "execution_count": 9,
   "id": "58d2bc5a-9994-44a9-9508-cc381ce6b36f",
   "metadata": {},
   "outputs": [
    {
     "name": "stdout",
     "output_type": "stream",
     "text": [
      "['Abrade', None, None, 2, None, None]\n"
     ]
    }
   ],
   "source": [
    "print(popularity_list[0])"
   ]
  },
  {
   "cell_type": "code",
   "execution_count": 10,
   "id": "d2388515-d6ba-49b4-9ebb-88fb96051dd7",
   "metadata": {},
   "outputs": [],
   "source": [
    "query_reset = \"\"\"\n",
    "       DELETE FROM popularity\n",
    "    \"\"\""
   ]
  },
  {
   "cell_type": "code",
   "execution_count": 11,
   "id": "9d5db316-db64-43cc-934e-348414ea020f",
   "metadata": {},
   "outputs": [],
   "source": [
    "query_popularity =\"\"\"\n",
    "        INSERT INTO popularity (\n",
    "             name,commander,pauper,standard,modern,vintage)\n",
    "        VALUES (%s, %s, %s, %s, %s, %s)\n",
    "    \"\"\""
   ]
  },
  {
   "cell_type": "code",
   "execution_count": 19,
   "id": "ac2b4571-1783-4612-be60-e48a01535966",
   "metadata": {},
   "outputs": [],
   "source": [
    "conn, cur = connect_database()"
   ]
  },
  {
   "cell_type": "code",
   "execution_count": 20,
   "id": "1bb1188a-aad4-452c-891b-dd6f3e158535",
   "metadata": {},
   "outputs": [],
   "source": [
    "cur.execute(query_reset)"
   ]
  },
  {
   "cell_type": "code",
   "execution_count": 15,
   "id": "6d15b191-6221-4eba-b6c2-a5b4d3284b01",
   "metadata": {},
   "outputs": [],
   "source": [
    "cur.executemany(query_popularity, popularity_list)"
   ]
  },
  {
   "cell_type": "code",
   "execution_count": 21,
   "id": "98f53cb1-2a20-4453-922b-c3c0cbfdb39f",
   "metadata": {},
   "outputs": [],
   "source": [
    "conn.commit()"
   ]
  },
  {
   "cell_type": "code",
   "execution_count": 4,
   "id": "a86da114-75b3-4790-8515-701668865daa",
   "metadata": {},
   "outputs": [
    {
     "ename": "NameError",
     "evalue": "name 'BACKUP' is not defined",
     "output_type": "error",
     "traceback": [
      "\u001b[31m---------------------------------------------------------------------------\u001b[39m",
      "\u001b[31mNameError\u001b[39m                                 Traceback (most recent call last)",
      "\u001b[36mCell\u001b[39m\u001b[36m \u001b[39m\u001b[32mIn[4]\u001b[39m\u001b[32m, line 1\u001b[39m\n\u001b[32m----> \u001b[39m\u001b[32m1\u001b[39m \u001b[43mBACKUP\u001b[49m\n\u001b[32m      2\u001b[39m \u001b[38;5;28;01mdef\u001b[39;00m\u001b[38;5;250m \u001b[39m\u001b[34mget_all_popular_cards\u001b[39m():\n\u001b[32m      3\u001b[39m     edhrec_data = scrape_edhrec()\n",
      "\u001b[31mNameError\u001b[39m: name 'BACKUP' is not defined"
     ]
    }
   ],
   "source": [
    "BACKUP\n",
    "def get_all_popular_cards():\n",
    "    edhrec_data = scrape_edhrec()\n",
    "    goldfish_data = scrape_mtggoldfish()\n",
    "\n",
    "    all_card_names = set(edhrec_data.keys()) | set(goldfish_data.keys())\n",
    "\n",
    "    result = []\n",
    "    for name in sorted(all_card_names):\n",
    "        entry = {\n",
    "            \"name\": name,\n",
    "            \"commander\": edhrec_data.get(name),\n",
    "            \"pauper\": goldfish_data.get(name, {}).get(\"pauper\"),\n",
    "            \"standard\": goldfish_data.get(name, {}).get(\"standard\"),\n",
    "            \"modern\": goldfish_data.get(name, {}).get(\"modern\"),\n",
    "            \"vintage\": goldfish_data.get(name, {}).get(\"vintage\"),\n",
    "        }\n",
    "        result.append(entry)\n",
    "\n",
    "    return result"
   ]
  }
 ],
 "metadata": {
  "kernelspec": {
   "display_name": "Python 3 (ipykernel)",
   "language": "python",
   "name": "python3"
  },
  "language_info": {
   "codemirror_mode": {
    "name": "ipython",
    "version": 3
   },
   "file_extension": ".py",
   "mimetype": "text/x-python",
   "name": "python",
   "nbconvert_exporter": "python",
   "pygments_lexer": "ipython3",
   "version": "3.11.7"
  }
 },
 "nbformat": 4,
 "nbformat_minor": 5
}
