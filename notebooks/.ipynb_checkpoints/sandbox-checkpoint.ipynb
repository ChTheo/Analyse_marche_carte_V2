{
 "cells": [
  {
   "cell_type": "code",
   "execution_count": 1,
   "id": "6181a14d-1be8-4be9-8722-6c956c053148",
   "metadata": {},
   "outputs": [],
   "source": [
    "import sys\n",
    "import os\n",
    "\n",
    "\n",
    "chemin_dossier = os.path.abspath('../Project_scripts')\n",
    "if chemin_dossier not in sys.path:\n",
    "    sys.path.append(chemin_dossier)\n",
    "\n"
   ]
  },
  {
   "cell_type": "code",
   "execution_count": 2,
   "id": "e1aa1f26-38ec-4d89-9abd-3f2efd9c7785",
   "metadata": {},
   "outputs": [],
   "source": [
    "from scryfall_api import *\n",
    "from manage_data import *\n",
    "import time"
   ]
  },
  {
   "cell_type": "code",
   "execution_count": 3,
   "id": "e0f2e386-8351-41e8-9851-fc252806d5d3",
   "metadata": {},
   "outputs": [],
   "source": [
    "def get_all_cards_today():\n",
    "    all_cards = []\n",
    "    url = url_en\n",
    "    MAX_RETRIES = 10\n",
    "\n",
    "    while url:\n",
    "        for attempt in range(MAX_RETRIES):\n",
    "            try:\n",
    "                response = r.get(url, timeout=10)\n",
    "                response.raise_for_status()\n",
    "                data = response.json()\n",
    "\n",
    "                # Extraire les objets 'card'\n",
    "                all_cards.extend(data['data'])\n",
    "\n",
    "                print(f\"{len(all_cards)} cartes chargées...\")\n",
    "                url = data.get(\"next_page\")\n",
    "                time.sleep(0.2)  # Pause légère entre les requêtes\n",
    "\n",
    "                break  # Sort du retry loop si succès\n",
    "\n",
    "            except r.exceptions.RequestException as e:\n",
    "                wait_time = (2 ** attempt)\n",
    "                print(f\"Erreur : {e}. Nouvelle tentative dans {wait_time} sec...\")\n",
    "                time.sleep(wait_time)\n",
    "        else:\n",
    "            print(\"Échec après plusieurs tentatives. Arrêt.\")\n",
    "            break\n",
    "\n",
    "    # Transformer en DataFrame\n",
    "    df = pd.json_normalize(all_cards)\n",
    "    print(f\"{len(df)} cartes importées.\")\n",
    "    return df\n"
   ]
  },
  {
   "cell_type": "code",
   "execution_count": null,
   "id": "9a323cbb-2770-4c55-8660-17aa87602852",
   "metadata": {},
   "outputs": [],
   "source": [
    "df = get_all_cards_today()"
   ]
  },
  {
   "cell_type": "code",
   "execution_count": 5,
   "id": "c50648cb-f0b6-410d-b4c0-068a55b1ac85",
   "metadata": {},
   "outputs": [],
   "source": [
    "dft = df.drop_duplicates(subset=[\"name\"])\n"
   ]
  },
  {
   "cell_type": "code",
   "execution_count": 6,
   "id": "f65b30cc-876c-4ab2-8e0a-650f816c3ba0",
   "metadata": {},
   "outputs": [
    {
     "name": "stdout",
     "output_type": "stream",
     "text": [
      "['object', 'id', 'oracle_id', 'multiverse_ids', 'tcgplayer_id', 'cardmarket_id', 'name', 'lang', 'released_at', 'uri', 'scryfall_uri', 'layout', 'highres_image', 'image_status', 'mana_cost', 'cmc', 'type_line', 'oracle_text', 'power', 'toughness', 'colors', 'color_identity', 'keywords', 'games', 'reserved', 'game_changer', 'foil', 'nonfoil', 'finishes', 'oversized', 'promo', 'reprint', 'variation', 'set_id', 'set', 'set_name', 'set_type', 'set_uri', 'set_search_uri', 'scryfall_set_uri', 'rulings_uri', 'prints_search_uri', 'collector_number', 'digital', 'rarity', 'flavor_text', 'card_back_id', 'artist', 'artist_ids', 'illustration_id', 'border_color', 'frame', 'full_art', 'textless', 'booster', 'story_spotlight', 'image_uris.small', 'image_uris.normal', 'image_uris.large', 'image_uris.png', 'image_uris.art_crop', 'image_uris.border_crop', 'legalities.standard', 'legalities.future', 'legalities.historic', 'legalities.timeless', 'legalities.gladiator', 'legalities.pioneer', 'legalities.modern', 'legalities.legacy', 'legalities.pauper', 'legalities.vintage', 'legalities.penny', 'legalities.commander', 'legalities.oathbreaker', 'legalities.standardbrawl', 'legalities.brawl', 'legalities.alchemy', 'legalities.paupercommander', 'legalities.duel', 'legalities.oldschool', 'legalities.premodern', 'legalities.predh', 'prices.usd', 'prices.usd_foil', 'prices.usd_etched', 'prices.eur', 'prices.eur_foil', 'prices.tix', 'related_uris.gatherer', 'related_uris.tcgplayer_infinite_articles', 'related_uris.tcgplayer_infinite_decks', 'related_uris.edhrec', 'purchase_uris.tcgplayer', 'purchase_uris.cardmarket', 'purchase_uris.cardhoarder', 'mtgo_id', 'arena_id', 'edhrec_rank', 'preview.source', 'preview.source_uri', 'preview.previewed_at', 'all_parts', 'frame_effects', 'security_stamp', 'promo_types', 'card_faces', 'watermark', 'penny_rank', 'produced_mana', 'mtgo_foil_id', 'loyalty', 'color_indicator', 'tcgplayer_etched_id', 'attraction_lights', 'flavor_name']\n"
     ]
    }
   ],
   "source": [
    "print(dft.columns.tolist())"
   ]
  },
  {
   "cell_type": "code",
   "execution_count": 17,
   "id": "354a0001-b902-4534-84cd-89cb31f9f12f",
   "metadata": {},
   "outputs": [],
   "source": [
    "conn.rollback()"
   ]
  },
  {
   "cell_type": "code",
   "execution_count": 8,
   "id": "0ac8611d-76fc-4256-a9ec-e9c8393c9223",
   "metadata": {},
   "outputs": [],
   "source": [
    "import psycopg2\n",
    "\n",
    "def connect_database2():\n",
    "    conn = psycopg2.connect(\n",
    "        dbname=\"analyse_cartes\",\n",
    "        user=\"airflow\",\n",
    "        password=\"airflow\",\n",
    "        host=\"localhost\",\n",
    "        port=\"5433\"\n",
    "    )\n",
    "\n",
    "    cur = conn.cursor()\n",
    "    return conn, cur"
   ]
  },
  {
   "cell_type": "code",
   "execution_count": 9,
   "id": "8861f442-8fb4-46bc-bf92-8f61047f047b",
   "metadata": {},
   "outputs": [],
   "source": [
    "conn, cur = connect_database2()"
   ]
  },
  {
   "cell_type": "code",
   "execution_count": 10,
   "id": "9e0ea676-676c-45b2-a58c-bb802a7a6ed2",
   "metadata": {},
   "outputs": [],
   "source": [
    "query_banlist = \"\"\"\n",
    "        INSERT INTO banlist\n",
    "        VALUES (%s, %s, %s, %s, %s, %s)\n",
    "    \"\"\""
   ]
  },
  {
   "cell_type": "code",
   "execution_count": 11,
   "id": "a751eb14-83b5-4331-a757-3ffe70bf7ce7",
   "metadata": {},
   "outputs": [],
   "source": [
    "data_banlist = dft[[\n",
    "        \"name\", \"legalities.commander\", \"legalities.pauper\", \"legalities.standard\", \"legalities.modern\", \"legalities.vintage\"\n",
    "    ]].values.tolist()"
   ]
  },
  {
   "cell_type": "code",
   "execution_count": 12,
   "id": "6ebdaa26-d20a-4291-bc9c-6041fb236553",
   "metadata": {},
   "outputs": [
    {
     "name": "stdout",
     "output_type": "stream",
     "text": [
      "['_____', 'not_legal', 'not_legal', 'not_legal', 'not_legal', 'not_legal']\n"
     ]
    }
   ],
   "source": [
    "print(data_banlist[0])"
   ]
  },
  {
   "cell_type": "code",
   "execution_count": 18,
   "id": "257d207a-78a3-4b54-b5a2-96af4370ab37",
   "metadata": {},
   "outputs": [],
   "source": [
    "cur.executemany(query_banlist, data_banlist)"
   ]
  },
  {
   "cell_type": "code",
   "execution_count": 19,
   "id": "b79d34c6-49a9-4398-9247-d70208ac834b",
   "metadata": {},
   "outputs": [],
   "source": [
    "conn.commit()"
   ]
  },
  {
   "cell_type": "code",
   "execution_count": 20,
   "id": "b2d4b830-49dd-4de2-a06c-5f2d913dcd93",
   "metadata": {},
   "outputs": [],
   "source": [
    "conn.close()"
   ]
  },
  {
   "cell_type": "code",
   "execution_count": null,
   "id": "7e1a246e-45de-4fcd-86cd-1f9414f55738",
   "metadata": {},
   "outputs": [],
   "source": [
    "url2 = \"https://api.scryfall.com/cards/search?q=lang:en\""
   ]
  },
  {
   "cell_type": "code",
   "execution_count": null,
   "id": "3501544d-44f4-47f3-9236-d02a26a357b4",
   "metadata": {},
   "outputs": [],
   "source": [
    "liste_colonne=['id','oracle_id','name',\"lang\",\"set_name\",\"rarity\",\"released_at\",\"prices.eur\",\"prices.eur_foil\"]\n",
    "df_carte = df[liste_colonne]"
   ]
  },
  {
   "cell_type": "code",
   "execution_count": null,
   "id": "cf9b08d1-ff2e-42bf-b07d-09a13ca7359a",
   "metadata": {},
   "outputs": [],
   "source": [
    "df_carte.tail()"
   ]
  },
  {
   "cell_type": "code",
   "execution_count": null,
   "id": "7e7878b6-957c-4627-b800-5d9a5e448c2c",
   "metadata": {},
   "outputs": [],
   "source": []
  },
  {
   "cell_type": "code",
   "execution_count": null,
   "id": "20b51337-7d39-478a-95f4-a803d1db3c3f",
   "metadata": {},
   "outputs": [],
   "source": [
    "import requests as r\n",
    "import pandas as pd\n",
    "import time\n",
    "\n",
    "all_cards = []\n",
    "\n",
    "MAX_RETRIES = 10\n",
    "\n",
    "while url:\n",
    "    for attempt in range(MAX_RETRIES):\n",
    "        try:\n",
    "            response = r.get(url, timeout=10)\n",
    "            response.raise_for_status()\n",
    "            data = response.json()\n",
    "\n",
    "            # Extraire les objets 'card'\n",
    "            all_cards.extend(data['data'])\n",
    "\n",
    "            print(f\"{len(all_cards)} cartes chargées...\")\n",
    "            url = data.get(\"next_page\")\n",
    "            time.sleep(0.2)  # Pause légère entre les requêtes\n",
    "\n",
    "            break  # Sort du retry loop si succès\n",
    "\n",
    "        except r.exceptions.RequestException as e:\n",
    "            wait_time = (2 ** attempt)\n",
    "            print(f\"Erreur : {e}. Nouvelle tentative dans {wait_time} sec...\")\n",
    "            time.sleep(wait_time)\n",
    "    else:\n",
    "        print(\"Échec après plusieurs tentatives. Arrêt.\")\n",
    "        break\n",
    "\n",
    "# Transformer en DataFrame\n",
    "df = pd.json_normalize(all_cards)\n",
    "print(f\"{len(df)} cartes importées.\")\n"
   ]
  },
  {
   "cell_type": "code",
   "execution_count": null,
   "id": "b7baf196-f75a-4205-8a58-124bd5dc31df",
   "metadata": {},
   "outputs": [],
   "source": [
    "df.shape"
   ]
  },
  {
   "cell_type": "code",
   "execution_count": null,
   "id": "2631654c-5b6f-4862-80cd-971965e52d06",
   "metadata": {},
   "outputs": [],
   "source": [
    "import psycopg2\n",
    "\n",
    "conn = psycopg2.connect(\n",
    "    dbname=\"prix_cartes\",\n",
    "    user=\"postgres\",\n",
    "    password=\"aE6C1U>4\",\n",
    "    host=\"localhost\",\n",
    "    port=\"5432\"\n",
    ")\n",
    "\n",
    "cur = conn.cursor()"
   ]
  },
  {
   "cell_type": "code",
   "execution_count": null,
   "id": "074ff818-1887-4770-86b8-5e5efc283b27",
   "metadata": {},
   "outputs": [],
   "source": [
    "query_info = \"\"\"\n",
    "    INSERT INTO cartes (\n",
    "        id, oracle_id, name, lang, set_name, rarity,\n",
    "        released_at\n",
    "    )\n",
    "    VALUES (%s, %s, %s, %s, %s, %s, %s)\n",
    "\"\"\""
   ]
  },
  {
   "cell_type": "code",
   "execution_count": null,
   "id": "991c64c0-7590-46d0-a286-0a9e7dd655ba",
   "metadata": {},
   "outputs": [],
   "source": [
    "data_info = df[[\n",
    "    \"id\", \"oracle_id\", \"name\", \"lang\", \"set_name\", \"rarity\",\n",
    "    \"released_at\"\n",
    "]].values.tolist()\n",
    "\n"
   ]
  },
  {
   "cell_type": "code",
   "execution_count": null,
   "id": "a5fb4444-9726-4ed6-9191-5988e33461b8",
   "metadata": {},
   "outputs": [],
   "source": [
    "data_info[0]"
   ]
  },
  {
   "cell_type": "code",
   "execution_count": null,
   "id": "477888b9-9a44-448d-a5a1-125e2dbf1bb0",
   "metadata": {},
   "outputs": [],
   "source": [
    "cur.executemany(query_info, data_info)\n",
    "\n",
    "conn.commit()"
   ]
  },
  {
   "cell_type": "code",
   "execution_count": null,
   "id": "8648fb9e-55d0-4e8c-a20c-f6e6ba49ee6d",
   "metadata": {},
   "outputs": [],
   "source": [
    "liste_colonne=['id','oracle_id','name',\"lang\",\"set_name\",\"rarity\",\"released_at\",\"prices.eur\",\"prices.eur_foil\"]\n",
    "df_carte = df[liste_colonne]"
   ]
  },
  {
   "cell_type": "code",
   "execution_count": null,
   "id": "766c16da-5ead-450e-8076-a2598413a3d9",
   "metadata": {},
   "outputs": [],
   "source": [
    "df_carte.head"
   ]
  }
 ],
 "metadata": {
  "kernelspec": {
   "display_name": "Python 3 (ipykernel)",
   "language": "python",
   "name": "python3"
  },
  "language_info": {
   "codemirror_mode": {
    "name": "ipython",
    "version": 3
   },
   "file_extension": ".py",
   "mimetype": "text/x-python",
   "name": "python",
   "nbconvert_exporter": "python",
   "pygments_lexer": "ipython3",
   "version": "3.11.7"
  }
 },
 "nbformat": 4,
 "nbformat_minor": 5
}
